{
 "cells": [
  {
   "cell_type": "code",
   "execution_count": 15,
   "metadata": {},
   "outputs": [
    {
     "data": {
      "text/plain": [
       "array([[0.90972002, 0.98140544, 0.56932534, 0.76146829, 0.38241054],\n",
       "       [0.60686249, 0.42975714, 0.05030694, 0.67443245, 0.75815978],\n",
       "       [0.66934372, 0.18220859, 0.59283999, 0.94229637, 0.51787793],\n",
       "       [0.18131577, 0.46828191, 0.41735583, 0.00884834, 0.46324955],\n",
       "       [0.04506134, 0.91226248, 0.77979431, 0.14756389, 0.53668587],\n",
       "       [0.59826211, 0.86726671, 0.54566294, 0.74752602, 0.24742043],\n",
       "       [0.89195417, 0.66976741, 0.87535661, 0.05905408, 0.06444019],\n",
       "       [0.44477097, 0.76232687, 0.56844657, 0.05250717, 0.50360245],\n",
       "       [0.25881519, 0.37630397, 0.48583653, 0.49732872, 0.7027045 ],\n",
       "       [0.30879244, 0.62733438, 0.75636881, 0.7273271 , 0.80766708]])"
      ]
     },
     "metadata": {},
     "output_type": "display_data"
    },
    {
     "data": {
      "text/plain": [
       "0.46828191090002713"
      ]
     },
     "metadata": {},
     "output_type": "display_data"
    },
    {
     "data": {
      "text/plain": [
       "0.46828191090002713"
      ]
     },
     "metadata": {},
     "output_type": "display_data"
    },
    {
     "name": "stdout",
     "output_type": "stream",
     "text": [
      "lista:\n"
     ]
    },
    {
     "data": {
      "text/plain": [
       "0.46828191090002713"
      ]
     },
     "metadata": {},
     "output_type": "display_data"
    }
   ],
   "source": [
    "import numpy as np\n",
    "shape = (10, 5)\n",
    "x, y = (3, 1)\n",
    "a = np.random.random(shape)\n",
    "display(a)\n",
    "display(a[x, y])\n",
    "display(a[x][y])\n",
    "\n",
    "print('lista:')\n",
    "lista = a.tolist()\n",
    "# display(lista[:3])\n",
    "display(lista[x][y])"
   ]
  },
  {
   "cell_type": "code",
   "execution_count": 21,
   "metadata": {},
   "outputs": [
    {
     "data": {
      "text/plain": [
       "[[1, 2, 3], [4, 5, 6]]"
      ]
     },
     "execution_count": 21,
     "metadata": {},
     "output_type": "execute_result"
    }
   ],
   "source": [
    "a = [[1, 2, 3],\n",
    "     [4, 5, 6],\n",
    "     [7, 8, 9]]\n",
    "\n",
    "a[:-1]"
   ]
  },
  {
   "cell_type": "code",
   "execution_count": 1,
   "metadata": {},
   "outputs": [],
   "source": [
    "from queue import Queue\n",
    "from threading import Thread\n",
    "\n",
    "fila = Queue()"
   ]
  },
  {
   "cell_type": "code",
   "execution_count": null,
   "metadata": {},
   "outputs": [],
   "source": [
    "def foo():\n",
    "    print(fila.get())\n",
    "\n",
    "\n",
    "    "
   ]
  }
 ],
 "metadata": {
  "kernelspec": {
   "display_name": "base",
   "language": "python",
   "name": "python3"
  },
  "language_info": {
   "codemirror_mode": {
    "name": "ipython",
    "version": 3
   },
   "file_extension": ".py",
   "mimetype": "text/x-python",
   "name": "python",
   "nbconvert_exporter": "python",
   "pygments_lexer": "ipython3",
   "version": "3.9.13"
  },
  "orig_nbformat": 4
 },
 "nbformat": 4,
 "nbformat_minor": 2
}
